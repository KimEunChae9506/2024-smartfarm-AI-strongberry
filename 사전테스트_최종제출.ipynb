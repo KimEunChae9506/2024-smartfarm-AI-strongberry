{
  "nbformat": 4,
  "nbformat_minor": 0,
  "metadata": {
    "colab": {
      "provenance": [],
      "authorship_tag": "ABX9TyNk11uMM6SW/3mOiqMJt8Q1",
      "include_colab_link": true
    },
    "kernelspec": {
      "name": "python3",
      "display_name": "Python 3"
    },
    "language_info": {
      "name": "python"
    }
  },
  "cells": [
    {
      "cell_type": "markdown",
      "metadata": {
        "id": "view-in-github",
        "colab_type": "text"
      },
      "source": [
        "<a href=\"https://colab.research.google.com/github/KimEunChae9506/2024-smartfarm-AI-strongberry/blob/main/%EC%82%AC%EC%A0%84%ED%85%8C%EC%8A%A4%ED%8A%B8_%EC%B5%9C%EC%A2%85%EC%A0%9C%EC%B6%9C.ipynb\" target=\"_parent\"><img src=\"https://colab.research.google.com/assets/colab-badge.svg\" alt=\"Open In Colab\"/></a>"
      ]
    },
    {
      "cell_type": "code",
      "execution_count": 3,
      "metadata": {
        "colab": {
          "base_uri": "https://localhost:8080/"
        },
        "id": "MwCvsFCuycGE",
        "outputId": "345570e3-1918-4e5e-ba1b-10334edb5ab6"
      },
      "outputs": [
        {
          "output_type": "stream",
          "name": "stdout",
          "text": [
            "MASE: 0.7757592286819476\n"
          ]
        }
      ],
      "source": [
        "import pandas as pd\n",
        "from sklearn.model_selection import train_test_split\n",
        "from sklearn.ensemble import RandomForestRegressor\n",
        "import numpy as np\n",
        "\n",
        "# 생육 데이터 불러오기\n",
        "growth_file = '사전테스트-생육데이터.xlsx'\n",
        "\n",
        "# Daraframe형식으로 엑셀 파일 읽기\n",
        "growth_data  = pd.read_excel(growth_file)\n",
        "\n",
        "# 환경 데이터 불러오기\n",
        "farm_files = ['environmentsB.csv', 'environmentsC.csv', 'environmentsD.csv', 'environmentsE.csv']\n",
        "environment_data = pd.DataFrame()\n",
        "\n",
        "for file_name in farm_files:\n",
        "    temp = pd.read_csv(file_name, sep = ',', encoding = 'utf-8')\n",
        "    environment_data = pd.concat([environment_data, temp])\n",
        "\n",
        "# 데이터 클리닝\n",
        "growth_data['조사일자'] = pd.to_datetime(growth_data['조사일자'], format='%Y%m%d')\n",
        "environment_data['datetime'] = pd.to_datetime(environment_data['datetime'])\n",
        "\n",
        "# 데이터 병합. 생육데이터에 없는 날짜는 환경데이터와 가까운 날짜로 채워넣음\n",
        "environment_data.rename(columns={'farm': '시설아이디'}, inplace=True)\n",
        "merged_data = pd.merge_asof(growth_data.sort_values('조사일자'), environment_data.sort_values('datetime'),\n",
        "                            by='시설아이디', left_on='조사일자', right_on='datetime', direction='nearest')\n",
        "\n",
        "# 데이터 전처리\n",
        "merged_data = merged_data.dropna()\n",
        "\n",
        "# 특성과 타겟 변수 선택\n",
        "X = merged_data[['supplyEC', 'supplyPH', 'innerCO2', 'innerHum', 'innerTemp', 'innerSolar']]\n",
        "y = merged_data['조사항목값']\n",
        "\n",
        "# 데이터 분할\n",
        "X_train, X_test, y_train, y_test = train_test_split(X, y, test_size=0.2, random_state=42)\n",
        "\n",
        "# 랜덤 포레스트 회귀 모델 생성 및 훈련\n",
        "rf_model = RandomForestRegressor(random_state=42)\n",
        "rf_model.fit(X_train, y_train)\n",
        "\n",
        "rf_pred = rf_model.predict(X_test)\n",
        "\n",
        "import joblib\n",
        "\n",
        "#모델 저장\n",
        "joblib.dump(rf_model, 'saved_model.pkl')\n",
        "\n",
        "results_df = pd.DataFrame(\n",
        "    {   '시설아이디': merged_data['시설아이디'].values,\n",
        "        '생육주사': merged_data['생육주사'].values,\n",
        "        '조사일자': merged_data['조사일자'].values,\n",
        "        '표본번호': merged_data['표본번호'].values,\n",
        "        '조사항목': merged_data['조사항목'].values,\n",
        "        '단위': merged_data['단위'].values,\n",
        "        '조사항목값': merged_data['조사항목값'].values\n",
        "    }\n",
        ")\n",
        "\n",
        "# 결과를 CSV 파일로 저장\n",
        "results_df.to_csv('predicted_growth.csv', index=False)\n",
        "\n",
        "\n",
        "# MASE 계산 (numpy 사용)\n",
        "def mase(actual, predicted, seasonality=1):\n",
        "    n = len(actual)\n",
        "    d = np.mean(np.abs(np.diff(actual, n=seasonality)))\n",
        "    errors = np.abs(actual - predicted)\n",
        "    return np.mean(errors) / d\n",
        "\n",
        "mase_value = mase(y_test.values, rf_pred)\n",
        "\n",
        "print(\"MASE:\", mase_value)"
      ]
    }
  ]
}
