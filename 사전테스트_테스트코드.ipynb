{
  "nbformat": 4,
  "nbformat_minor": 0,
  "metadata": {
    "colab": {
      "provenance": [],
      "authorship_tag": "ABX9TyODe0n9dYtTIv4rWoaT/M87",
      "include_colab_link": true
    },
    "kernelspec": {
      "name": "python3",
      "display_name": "Python 3"
    },
    "language_info": {
      "name": "python"
    }
  },
  "cells": [
    {
      "cell_type": "markdown",
      "metadata": {
        "id": "view-in-github",
        "colab_type": "text"
      },
      "source": [
        "<a href=\"https://colab.research.google.com/github/KimEunChae9506/2024-smartfarm-AI-strongberry/blob/main/%EC%82%AC%EC%A0%84%ED%85%8C%EC%8A%A4%ED%8A%B8_%ED%85%8C%EC%8A%A4%ED%8A%B8%EC%BD%94%EB%93%9C.ipynb\" target=\"_parent\"><img src=\"https://colab.research.google.com/assets/colab-badge.svg\" alt=\"Open In Colab\"/></a>"
      ]
    },
    {
      "cell_type": "code",
      "execution_count": 4,
      "metadata": {
        "colab": {
          "base_uri": "https://localhost:8080/"
        },
        "id": "MwCvsFCuycGE",
        "outputId": "d0284aa3-e180-48f7-bac8-1b4fc3ad6e3e"
      },
      "outputs": [
        {
          "output_type": "stream",
          "name": "stdout",
          "text": [
            "{'관부직경': 1.43435689282243, '엽병장': 1.5275196831063476, '엽수': 1.3234630739025826, '엽장': 1.6597284355678907, '엽폭': 1.6356605555780686, '착과수': 2.0649050099393276, '초장': 1.5415704224810618, '화방 꽃수(소화수)': 1.9810629436925864}\n"
          ]
        }
      ],
      "source": [
        "#조사항목값의 컬럼을 빼서 피봇테이블을 만든 후 환경데이터와 merge.\n",
        "#하지만 원본과 MASE를 비교할 때 output csv와 형식이 맞지 않을 것 같아 제출X.\n",
        "\n",
        "import pandas as pd\n",
        "import numpy as np\n",
        "\n",
        "from sklearn.model_selection import train_test_split\n",
        "from sklearn.ensemble import RandomForestRegressor\n",
        "from sklearn.preprocessing import MinMaxScaler\n",
        "import joblib\n",
        "\n",
        "# 생육 데이터 불러오기\n",
        "growth_file = '사전테스트-생육데이터.xlsx'\n",
        "\n",
        "# DataFrame 형식으로 엑셀 파일 읽기\n",
        "growth_data = pd.read_excel(growth_file)\n",
        "\n",
        "# 환경 데이터 불러오기\n",
        "farm_files = ['environmentsB.csv', 'environmentsC.csv', 'environmentsD.csv', 'environmentsE.csv']\n",
        "environment_data = pd.DataFrame()\n",
        "\n",
        "for file_name in farm_files:\n",
        "    temp = pd.read_csv(file_name, sep=',', encoding='utf-8')\n",
        "    environment_data = pd.concat([environment_data, temp])\n",
        "\n",
        "# 생육 데이터 클리닝\n",
        "growth_data['조사일자'] = pd.to_datetime(growth_data['조사일자'], format='%Y%m%d')\n",
        "\n",
        "# 환경 데이터 클리닝\n",
        "environment_data['datetime'] = pd.to_datetime(environment_data['datetime'])\n",
        "environment_data = environment_data[~((environment_data['supplyEC'] == 0) & (environment_data['innerSolar'] == 0))]\n",
        "environment_data = environment_data.dropna(subset=['datetime'])\n",
        "\n",
        "# 생육 데이터 피봇 (조사항목 열의 값들을 컬럼으로 빼준다.)\n",
        "pivoted_growth_data = growth_data.pivot_table(\n",
        "    index=['시설아이디', '생육주사', '조사일자', '표본번호'],\n",
        "    columns='조사항목',\n",
        "    values='조사항목값'\n",
        ").reset_index()\n",
        "\n",
        "# 데이터 병합\n",
        "environment_data.rename(columns={'farm': '시설아이디'}, inplace=True)\n",
        "merged_data = pd.merge_asof(pivoted_growth_data.sort_values('조사일자'), environment_data.sort_values('datetime'),\n",
        "                            by='시설아이디', left_on='조사일자', right_on='datetime', direction='nearest')\n",
        "\n",
        "merged_data.drop(['조사일자', '시설아이디', '생육주사', '표본번호', '최종화방차수'], axis=1, inplace=True)\n",
        "\n",
        "# 입력 변수(X)와 출력 변수(y) 분리\n",
        "X = merged_data[['supplyEC', 'supplyPH', 'innerCO2', 'innerHum', 'innerTemp', 'innerSolar']]\n",
        "y = merged_data[['초장', '엽장', '엽폭', '엽병장', '엽수', '관부직경', '화방 꽃수(소화수)', '착과수']]\n",
        "\n",
        "# 데이터 스케일링\n",
        "xMscaler = MinMaxScaler(feature_range=(-1,1))\n",
        "yMscaler = MinMaxScaler(feature_range=(-1,1))\n",
        "X = xMscaler.fit_transform(X)\n",
        "y = yMscaler.fit_transform(y)\n",
        "\n",
        "# 데이터를 훈련 세트와 테스트 세트로 분리\n",
        "X_train, X_test, y_train, y_test = train_test_split(X, y, test_size=0.2, random_state=42)\n",
        "\n",
        "model = RandomForestRegressor(random_state=42)\n",
        "model.fit(X_train, y_train)\n",
        "\n",
        "# 모델 저장\n",
        "joblib.dump(model, 'trained_model.pkl')\n",
        "\n",
        "# 모델 불러오기\n",
        "model = joblib.load('trained_model.pkl')\n",
        "\n",
        "# 새로운 입력 데이터 불러오기\n",
        "new_env_data = merged_data\n",
        "\n",
        "# 예측 수행\n",
        "predictions = model.predict(xMscaler.transform(new_env_data[['supplyEC', 'supplyPH', 'innerCO2', 'innerHum', 'innerTemp', 'innerSolar']]))\n",
        "\n",
        "# 예측 결과를 데이터프레임으로 변환\n",
        "predicted_growth = pd.DataFrame(yMscaler.inverse_transform(predictions), columns=['초장', '엽장', '엽폭', '엽병장', '엽수', '관부직경', '화방 꽃수(소화수)', '착과수'])\n",
        "\n",
        "# 결과를 CSV 파일로 저장\n",
        "predicted_growth.to_csv('predicted_growth.csv', index=False)\n",
        "\n",
        "# MASE 계산 함수\n",
        "def mase(actual, predicted, seasonality=1):\n",
        "    n = len(actual)\n",
        "    d = np.abs(np.diff(actual, n=seasonality)).sum() / (n - seasonality)\n",
        "    errors = np.abs(actual - predicted)\n",
        "    return errors.mean() / d\n",
        "\n",
        "pivoted_growth_data.drop(['조사일자', '시설아이디', '생육주사', '표본번호', '최종화방차수'], axis=1, inplace=True)\n",
        "\n",
        "# 각 열에 대해 MASE 계산\n",
        "mase_scores = {}\n",
        "for column in pivoted_growth_data.columns:\n",
        "    actual = pivoted_growth_data[column].dropna().values\n",
        "    predicted = predicted_growth[column].values[:len(actual)]  # 실제 값과 예측 값을 맞추기 위해 슬라이싱\n",
        "    mase_score = mase(actual, predicted)\n",
        "    mase_scores[column] = mase_score\n",
        "\n",
        "# 결과 출력\n",
        "print(mase_scores)\n",
        "# 예측 및 평가\n",
        "y_pred = model.predict(X_test)\n",
        "y_pred = yMscaler.inverse_transform(y_pred)  # 스케일링 되돌리기\n",
        "y_test = yMscaler.inverse_transform(y_test)  # 스케일링 되돌리기"
      ]
    }
  ]
}