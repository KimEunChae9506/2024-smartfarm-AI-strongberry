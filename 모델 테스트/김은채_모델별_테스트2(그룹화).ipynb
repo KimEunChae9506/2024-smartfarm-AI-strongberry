{
  "nbformat": 4,
  "nbformat_minor": 0,
  "metadata": {
    "colab": {
      "provenance": [],
      "gpuType": "T4",
      "authorship_tag": "ABX9TyOVpk/RuabYH5yMYsWUaxuN",
      "include_colab_link": true
    },
    "kernelspec": {
      "name": "python3",
      "display_name": "Python 3"
    },
    "language_info": {
      "name": "python"
    },
    "accelerator": "GPU"
  },
  "cells": [
    {
      "cell_type": "markdown",
      "metadata": {
        "id": "view-in-github",
        "colab_type": "text"
      },
      "source": [
        "<a href=\"https://colab.research.google.com/github/KimEunChae9506/2024-smartfarm-AI-strongberry/blob/main/%ED%85%8C%EC%8A%A4%ED%8A%B8/%EA%B9%80%EC%9D%80%EC%B1%84_%EB%AA%A8%EB%8D%B8%EB%B3%84_%ED%85%8C%EC%8A%A4%ED%8A%B82(%EA%B7%B8%EB%A3%B9%ED%99%94).ipynb\" target=\"_parent\"><img src=\"https://colab.research.google.com/assets/colab-badge.svg\" alt=\"Open In Colab\"/></a>"
      ]
    },
    {
      "cell_type": "code",
      "execution_count": null,
      "metadata": {
        "id": "tuq3yWh5mTq0"
      },
      "outputs": [],
      "source": [
        "#모델별 테스트2\n",
        "#서버 : 코랩 GPU\n",
        "#데이터 전처리 : frmDate 그룹화\n",
        "#모델 4가지 테스트\n",
        "  #LinearRegression\n",
        "  #RandomForestRegressor\n",
        "  #SVR\n",
        "  #XGBRegressor\n",
        "\n",
        "#문제 : 정식일 이후 16주 동안 단위면적당 최소 에너지 비용(누적 난반용 도시가스 사용량)으로 최대 수확량을 예측 할 수 있는 환경/생육 모델을 구해라\n",
        "\n",
        "#전처리\n",
        " # => frmDist 를 그룹화.\n",
        " # => 최소 에너지 비용으로 최대 수확량을 구하므로 누적 난방 에너지 사용량의 최솟값(min()) 을 독립변수에 추가.\n",
        "\n",
        "#결과\n",
        "# 1. LinearRegression, RandomForestRegressor => 속도는 네 모델 다 1초이내.\n",
        "# SVR은 결정계수 음수값."
      ]
    },
    {
      "cell_type": "code",
      "source": [
        "import pandas as pd\n",
        "import numpy as np\n",
        "import csv\n",
        "from sklearn.model_selection import train_test_split\n",
        "from sklearn.preprocessing import StandardScaler, OneHotEncoder\n",
        "from sklearn.ensemble import RandomForestRegressor\n",
        "from sklearn.linear_model import LinearRegression\n",
        "from sklearn.svm import SVR\n",
        "from xgboost import XGBRegressor\n",
        "from sklearn.metrics import r2_score\n",
        "import chardet\n",
        "\n",
        "# 데이터 로드\n",
        "file_path = 'dataset.csv'\n",
        "data = pd.read_csv(file_path)\n",
        "\n",
        "# 데이터 전처리\n",
        "# 'frmDist' 열을 기준으로 데이터 그룹화 및 평균값 계산하여 'group_df'에 저장\n",
        "group_df = data.groupby('frmDist').mean()\n",
        "\n",
        "# 'frmDist' 열을 기준으로 데이터 다시 그룹화하고, 'outtrn_cumsum' 열에서 최솟값 계산하여 'group_outtrn_cumsum_df'에 저장\n",
        "group_outtrn_cumsum_df = data.groupby('frmDist').min()[['HeatingEnergyUsage_cumsum']]\n",
        "\n",
        "# 'group_df'에서 'HeatingEnergyUsage_cumsum'과 'date' 열 제거\n",
        "group_df.drop(['HeatingEnergyUsage_cumsum', 'date'], axis=1, inplace=True)\n",
        "\n",
        "# 'group_df'와 'group_outtrn_cumsum_df'를 합쳐 'merge_df' 데이터프레임 생성\n",
        "merge_df = pd.concat([group_df, group_outtrn_cumsum_df], axis=1)\n",
        "\n",
        "# 독립 변수(X)와 종속 변수(y) 분리\n",
        "X = merge_df.drop('outtrn_cumsum', axis=1)\n",
        "y = merge_df['outtrn_cumsum']\n",
        "\n",
        "# 데이터 분할 (학습용 데이터와 테스트용 데이터)\n",
        "X_train, X_test, y_train, y_test = train_test_split(X, y, test_size=0.2, random_state=42)\n",
        "\n",
        "# 데이터 스케일링\n",
        "scaler = StandardScaler()\n",
        "X_train_scaled = scaler.fit_transform(X_train)\n",
        "X_test_scaled = scaler.transform(X_test)\n",
        "\n",
        "# 모델 리스트\n",
        "model = LinearRegression()\n",
        "\n",
        "# 모델 성능 평가\n",
        "model.fit(X_train_scaled, y_train)\n",
        "y_train_pred = model.predict(X_train_scaled)\n",
        "y_test_pred = model.predict(X_test_scaled)\n",
        "\n",
        "train_r2 = r2_score(y_train, y_train_pred)\n",
        "test_r2 = r2_score(y_test, y_test_pred)\n",
        "\n",
        "\n",
        "# 결과 출력\n",
        "print(f\"  Training R2: {train_r2:.4f}\")\n",
        "print(f\"  Test R2: {test_r2:.4f}\\n\")"
      ],
      "metadata": {
        "colab": {
          "base_uri": "https://localhost:8080/"
        },
        "id": "r2np5nR8mssF",
        "outputId": "009a7e12-d0c4-4c65-f798-b7eba3de1fab"
      },
      "execution_count": 15,
      "outputs": [
        {
          "output_type": "stream",
          "name": "stdout",
          "text": [
            "  Training R2: 0.9998\n",
            "  Test R2: 0.9994\n",
            "\n"
          ]
        }
      ]
    },
    {
      "cell_type": "code",
      "source": [
        "import pandas as pd\n",
        "import numpy as np\n",
        "import csv\n",
        "from sklearn.model_selection import train_test_split\n",
        "from sklearn.preprocessing import StandardScaler, OneHotEncoder\n",
        "from sklearn.ensemble import RandomForestRegressor\n",
        "from sklearn.linear_model import LinearRegression\n",
        "from sklearn.svm import SVR\n",
        "from xgboost import XGBRegressor\n",
        "from sklearn.metrics import r2_score\n",
        "import chardet\n",
        "\n",
        "# 데이터 로드\n",
        "file_path = 'dataset.csv'\n",
        "data = pd.read_csv(file_path)\n",
        "\n",
        "# 데이터 전처리\n",
        "# 'frmDist' 열을 기준으로 데이터 그룹화 및 평균값 계산하여 'group_df'에 저장\n",
        "group_df = data.groupby('frmDist').mean()\n",
        "\n",
        "# 'frmDist' 열을 기준으로 데이터 다시 그룹화하고, 'HeatingEnergyUsage_cumsum' 열에서 최솟값 계산하여 'group_outtrn_cumsum_df'에 저장\n",
        "group_outtrn_cumsum_df = data.groupby('frmDist').min()[['HeatingEnergyUsage_cumsum']]\n",
        "\n",
        "# 'group_df'에서 'outtrn_cumsum'과 'date' 열 제거\n",
        "group_df.drop(['HeatingEnergyUsage_cumsum', 'date'], axis=1, inplace=True)\n",
        "\n",
        "# 'group_df'와 'group_outtrn_cumsum_df'를 합쳐 'merge_df' 데이터프레임 생성\n",
        "merge_df = pd.concat([group_df, group_outtrn_cumsum_df], axis=1)\n",
        "\n",
        "# 독립 변수(X)와 종속 변수(y) 분리\n",
        "X = merge_df.drop('outtrn_cumsum', axis=1)\n",
        "y = merge_df['outtrn_cumsum']\n",
        "\n",
        "# 데이터 분할 (학습용 데이터와 테스트용 데이터)\n",
        "X_train, X_test, y_train, y_test = train_test_split(X, y, test_size=0.2, random_state=42)\n",
        "\n",
        "# 데이터 스케일링\n",
        "scaler = StandardScaler()\n",
        "X_train_scaled = scaler.fit_transform(X_train)\n",
        "X_test_scaled = scaler.transform(X_test)\n",
        "\n",
        "# 모델 리스트\n",
        "model = RandomForestRegressor(random_state=42)\n",
        "\n",
        "# 모델 성능 평가\n",
        "model.fit(X_train_scaled, y_train)\n",
        "y_train_pred = model.predict(X_train_scaled)\n",
        "y_test_pred = model.predict(X_test_scaled)\n",
        "\n",
        "train_r2 = r2_score(y_train, y_train_pred)\n",
        "test_r2 = r2_score(y_test, y_test_pred)\n",
        "\n",
        "\n",
        "# 결과 출력\n",
        "print(f\"  Training R2: {train_r2:.4f}\")\n",
        "print(f\"  Test R2: {test_r2:.4f}\\n\")"
      ],
      "metadata": {
        "colab": {
          "base_uri": "https://localhost:8080/"
        },
        "id": "-CRCzsLptFHS",
        "outputId": "c7cf788d-8b04-47cb-982a-6b79af50cdbe"
      },
      "execution_count": 14,
      "outputs": [
        {
          "output_type": "stream",
          "name": "stdout",
          "text": [
            "  Training R2: 1.0000\n",
            "  Test R2: 0.9994\n",
            "\n"
          ]
        }
      ]
    },
    {
      "cell_type": "code",
      "source": [
        "import pandas as pd\n",
        "import numpy as np\n",
        "import csv\n",
        "from sklearn.model_selection import train_test_split\n",
        "from sklearn.preprocessing import StandardScaler, OneHotEncoder\n",
        "from sklearn.ensemble import RandomForestRegressor\n",
        "from sklearn.linear_model import LinearRegression\n",
        "from sklearn.svm import SVR\n",
        "from xgboost import XGBRegressor\n",
        "from sklearn.metrics import r2_score\n",
        "import chardet\n",
        "\n",
        "# 데이터 로드\n",
        "file_path = 'dataset.csv'\n",
        "data = pd.read_csv(file_path)\n",
        "\n",
        "# 데이터 전처리\n",
        "# 'frmDist' 열을 기준으로 데이터 그룹화 및 평균값 계산하여 'group_df'에 저장\n",
        "group_df = data.groupby('frmDist').mean()\n",
        "\n",
        "# 'frmDist' 열을 기준으로 데이터 다시 그룹화하고, 'outtrn_cumsum' 열에서 최솟값 계산하여 'group_outtrn_cumsum_df'에 저장\n",
        "group_outtrn_cumsum_df = data.groupby('frmDist').min()[['HeatingEnergyUsage_cumsum']]\n",
        "\n",
        "# 'group_df'에서 'HeatingEnergyUsage_cumsum'과 'date' 열 제거\n",
        "group_df.drop(['HeatingEnergyUsage_cumsum', 'date'], axis=1, inplace=True)\n",
        "\n",
        "# 'group_df'와 'group_outtrn_cumsum_df'를 합쳐 'merge_df' 데이터프레임 생성\n",
        "merge_df = pd.concat([group_df, group_outtrn_cumsum_df], axis=1)\n",
        "\n",
        "# 독립 변수(X)와 종속 변수(y) 분리\n",
        "X = merge_df.drop('outtrn_cumsum', axis=1)\n",
        "y = merge_df['outtrn_cumsum']\n",
        "\n",
        "# 데이터 분할 (학습용 데이터와 테스트용 데이터)\n",
        "X_train, X_test, y_train, y_test = train_test_split(X, y, test_size=0.2, random_state=42)\n",
        "\n",
        "# 데이터 스케일링\n",
        "scaler = StandardScaler()\n",
        "X_train_scaled = scaler.fit_transform(X_train)\n",
        "X_test_scaled = scaler.transform(X_test)\n",
        "\n",
        "# 모델 리스트\n",
        "model = SVR()\n",
        "\n",
        "# 모델 성능 평가\n",
        "model.fit(X_train_scaled, y_train)\n",
        "y_train_pred = model.predict(X_train_scaled)\n",
        "y_test_pred = model.predict(X_test_scaled)\n",
        "\n",
        "train_r2 = r2_score(y_train, y_train_pred)\n",
        "test_r2 = r2_score(y_test, y_test_pred)\n",
        "\n",
        "\n",
        "# 결과 출력\n",
        "print(f\"  Training R2: {train_r2:.4f}\")\n",
        "print(f\"  Test R2: {test_r2:.4f}\\n\")"
      ],
      "metadata": {
        "colab": {
          "base_uri": "https://localhost:8080/"
        },
        "id": "p0WCEczgteh-",
        "outputId": "10390d6e-08a5-4651-91b0-e665631deda9"
      },
      "execution_count": 13,
      "outputs": [
        {
          "output_type": "stream",
          "name": "stdout",
          "text": [
            "  Training R2: 0.0029\n",
            "  Test R2: -0.0056\n",
            "\n"
          ]
        }
      ]
    },
    {
      "cell_type": "code",
      "source": [
        "import pandas as pd\n",
        "import numpy as np\n",
        "import csv\n",
        "from sklearn.model_selection import train_test_split\n",
        "from sklearn.preprocessing import StandardScaler, OneHotEncoder\n",
        "from sklearn.ensemble import RandomForestRegressor\n",
        "from sklearn.linear_model import LinearRegression\n",
        "from sklearn.svm import SVR\n",
        "from xgboost import XGBRegressor\n",
        "from sklearn.metrics import r2_score\n",
        "import chardet\n",
        "\n",
        "# 데이터 로드\n",
        "file_path = 'dataset.csv'\n",
        "data = pd.read_csv(file_path)\n",
        "\n",
        "# 데이터 전처리\n",
        "# 'frmDist' 열을 기준으로 데이터 그룹화 및 평균값 계산하여 'group_df'에 저장\n",
        "group_df = data.groupby('frmDist').mean()\n",
        "\n",
        "# 'frmDist' 열을 기준으로 데이터 다시 그룹화하고, 'outtrn_cumsum' 열에서 최솟값 계산하여 'group_outtrn_cumsum_df'에 저장\n",
        "group_outtrn_cumsum_df = data.groupby('frmDist').min()[['HeatingEnergyUsage_cumsum']]\n",
        "\n",
        "# 'group_df'에서 'HeatingEnergyUsage_cumsum'과 'date' 열 제거\n",
        "group_df.drop(['HeatingEnergyUsage_cumsum', 'date'], axis=1, inplace=True)\n",
        "\n",
        "# 'group_df'와 'group_outtrn_cumsum_df'를 합쳐 'merge_df' 데이터프레임 생성\n",
        "merge_df = pd.concat([group_df, group_outtrn_cumsum_df], axis=1)\n",
        "\n",
        "# 독립 변수(X)와 종속 변수(y) 분리\n",
        "X = merge_df.drop('outtrn_cumsum', axis=1)\n",
        "y = merge_df['outtrn_cumsum']\n",
        "\n",
        "# 데이터 분할 (학습용 데이터와 테스트용 데이터)\n",
        "X_train, X_test, y_train, y_test = train_test_split(X, y, test_size=0.2, random_state=42)\n",
        "\n",
        "# 데이터 스케일링\n",
        "scaler = StandardScaler()\n",
        "X_train_scaled = scaler.fit_transform(X_train)\n",
        "X_test_scaled = scaler.transform(X_test)\n",
        "\n",
        "# 모델 리스트\n",
        "model = XGBRegressor(random_state=42)\n",
        "\n",
        "# 모델 성능 평가\n",
        "model.fit(X_train_scaled, y_train)\n",
        "y_train_pred = model.predict(X_train_scaled)\n",
        "y_test_pred = model.predict(X_test_scaled)\n",
        "\n",
        "train_r2 = r2_score(y_train, y_train_pred)\n",
        "test_r2 = r2_score(y_test, y_test_pred)\n",
        "\n",
        "\n",
        "# 결과 출력\n",
        "print(f\"  Training R2: {train_r2:.4f}\")\n",
        "print(f\"  Test R2: {test_r2:.4f}\\n\")"
      ],
      "metadata": {
        "colab": {
          "base_uri": "https://localhost:8080/"
        },
        "id": "TpZzreSAtn8v",
        "outputId": "7b9dffdc-fb24-4b38-8a8f-4f0204a0f79f"
      },
      "execution_count": 12,
      "outputs": [
        {
          "output_type": "stream",
          "name": "stdout",
          "text": [
            "  Training R2: 1.0000\n",
            "  Test R2: 0.9819\n",
            "\n"
          ]
        }
      ]
    }
  ]
}
